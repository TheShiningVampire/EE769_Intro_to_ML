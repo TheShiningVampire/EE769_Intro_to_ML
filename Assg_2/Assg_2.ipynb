{
 "metadata": {
  "language_info": {
   "codemirror_mode": {
    "name": "ipython",
    "version": 3
   },
   "file_extension": ".py",
   "mimetype": "text/x-python",
   "name": "python",
   "nbconvert_exporter": "python",
   "pygments_lexer": "ipython3",
   "version": "3.8.5-final"
  },
  "orig_nbformat": 2,
  "kernelspec": {
   "name": "python3",
   "display_name": "Python 3.8.5 64-bit (conda)",
   "metadata": {
    "interpreter": {
     "hash": "81a1282decb4636a82fa971aae492972fc11ee93f9b402005c17df1944a6e5a8"
    }
   }
  }
 },
 "nbformat": 4,
 "nbformat_minor": 2,
 "cells": [
  {
   "cell_type": "code",
   "execution_count": 1,
   "metadata": {},
   "outputs": [],
   "source": [
    "import numpy as np\n",
    "import pandas as pd\n",
    "import matplotlib.pyplot as plt\n",
    "import seaborn as sns"
   ]
  },
  {
   "cell_type": "code",
   "execution_count": 2,
   "metadata": {},
   "outputs": [],
   "source": [
    "df = pd.read_csv(\"Train.csv\") ## The Original Data"
   ]
  },
  {
   "cell_type": "code",
   "execution_count": 3,
   "metadata": {},
   "outputs": [
    {
     "output_type": "execute_result",
     "data": {
      "text/plain": [
       "      id  amount_tsh date_recorded                  funder  gps_height  \\\n",
       "0   7411         7.0    2013-03-20         Germany Republi        1203   \n",
       "1  18014         0.0    2011-02-21                    Cdtf        1409   \n",
       "2  26103         0.0    2013-01-04  Government Of Tanzania        1572   \n",
       "3  31140         0.0    2011-04-03        District Council           0   \n",
       "4  12286       300.0    2013-03-08        District Council        1283   \n",
       "\n",
       "          installer  longitude  latitude      wpt_name  num_private  ...  \\\n",
       "0               CES  37.228664 -3.256505   Kwa Abdalla            0  ...   \n",
       "1              CDTF  34.615481 -9.972601          none            0  ...   \n",
       "2               DWE  36.658778 -3.321529  Kwa Loishiye            0  ...   \n",
       "3  District Council  33.628025 -8.860795   Mwanzechele            0  ...   \n",
       "4  District Council  37.655509 -3.669777    Kwa Kidaya            0  ...   \n",
       "\n",
       "  water_quality quality_group      quantity  quantity_group  source  \\\n",
       "0          soft          good        enough          enough  spring   \n",
       "1          soft          good        enough          enough  spring   \n",
       "2          soft          good  insufficient    insufficient  spring   \n",
       "3          soft          good  insufficient    insufficient   river   \n",
       "4          soft          good  insufficient    insufficient  spring   \n",
       "\n",
       "  source_type source_class     waterpoint_type waterpoint_type_group  \\\n",
       "0      spring  groundwater  communal standpipe    communal standpipe   \n",
       "1      spring  groundwater  communal standpipe    communal standpipe   \n",
       "2      spring  groundwater  communal standpipe    communal standpipe   \n",
       "3  river/lake      surface  communal standpipe    communal standpipe   \n",
       "4      spring  groundwater  communal standpipe    communal standpipe   \n",
       "\n",
       "     status_group  \n",
       "0      functional  \n",
       "1      functional  \n",
       "2  non functional  \n",
       "3      functional  \n",
       "4      functional  \n",
       "\n",
       "[5 rows x 41 columns]"
      ],
      "text/html": "<div>\n<style scoped>\n    .dataframe tbody tr th:only-of-type {\n        vertical-align: middle;\n    }\n\n    .dataframe tbody tr th {\n        vertical-align: top;\n    }\n\n    .dataframe thead th {\n        text-align: right;\n    }\n</style>\n<table border=\"1\" class=\"dataframe\">\n  <thead>\n    <tr style=\"text-align: right;\">\n      <th></th>\n      <th>id</th>\n      <th>amount_tsh</th>\n      <th>date_recorded</th>\n      <th>funder</th>\n      <th>gps_height</th>\n      <th>installer</th>\n      <th>longitude</th>\n      <th>latitude</th>\n      <th>wpt_name</th>\n      <th>num_private</th>\n      <th>...</th>\n      <th>water_quality</th>\n      <th>quality_group</th>\n      <th>quantity</th>\n      <th>quantity_group</th>\n      <th>source</th>\n      <th>source_type</th>\n      <th>source_class</th>\n      <th>waterpoint_type</th>\n      <th>waterpoint_type_group</th>\n      <th>status_group</th>\n    </tr>\n  </thead>\n  <tbody>\n    <tr>\n      <th>0</th>\n      <td>7411</td>\n      <td>7.0</td>\n      <td>2013-03-20</td>\n      <td>Germany Republi</td>\n      <td>1203</td>\n      <td>CES</td>\n      <td>37.228664</td>\n      <td>-3.256505</td>\n      <td>Kwa Abdalla</td>\n      <td>0</td>\n      <td>...</td>\n      <td>soft</td>\n      <td>good</td>\n      <td>enough</td>\n      <td>enough</td>\n      <td>spring</td>\n      <td>spring</td>\n      <td>groundwater</td>\n      <td>communal standpipe</td>\n      <td>communal standpipe</td>\n      <td>functional</td>\n    </tr>\n    <tr>\n      <th>1</th>\n      <td>18014</td>\n      <td>0.0</td>\n      <td>2011-02-21</td>\n      <td>Cdtf</td>\n      <td>1409</td>\n      <td>CDTF</td>\n      <td>34.615481</td>\n      <td>-9.972601</td>\n      <td>none</td>\n      <td>0</td>\n      <td>...</td>\n      <td>soft</td>\n      <td>good</td>\n      <td>enough</td>\n      <td>enough</td>\n      <td>spring</td>\n      <td>spring</td>\n      <td>groundwater</td>\n      <td>communal standpipe</td>\n      <td>communal standpipe</td>\n      <td>functional</td>\n    </tr>\n    <tr>\n      <th>2</th>\n      <td>26103</td>\n      <td>0.0</td>\n      <td>2013-01-04</td>\n      <td>Government Of Tanzania</td>\n      <td>1572</td>\n      <td>DWE</td>\n      <td>36.658778</td>\n      <td>-3.321529</td>\n      <td>Kwa Loishiye</td>\n      <td>0</td>\n      <td>...</td>\n      <td>soft</td>\n      <td>good</td>\n      <td>insufficient</td>\n      <td>insufficient</td>\n      <td>spring</td>\n      <td>spring</td>\n      <td>groundwater</td>\n      <td>communal standpipe</td>\n      <td>communal standpipe</td>\n      <td>non functional</td>\n    </tr>\n    <tr>\n      <th>3</th>\n      <td>31140</td>\n      <td>0.0</td>\n      <td>2011-04-03</td>\n      <td>District Council</td>\n      <td>0</td>\n      <td>District Council</td>\n      <td>33.628025</td>\n      <td>-8.860795</td>\n      <td>Mwanzechele</td>\n      <td>0</td>\n      <td>...</td>\n      <td>soft</td>\n      <td>good</td>\n      <td>insufficient</td>\n      <td>insufficient</td>\n      <td>river</td>\n      <td>river/lake</td>\n      <td>surface</td>\n      <td>communal standpipe</td>\n      <td>communal standpipe</td>\n      <td>functional</td>\n    </tr>\n    <tr>\n      <th>4</th>\n      <td>12286</td>\n      <td>300.0</td>\n      <td>2013-03-08</td>\n      <td>District Council</td>\n      <td>1283</td>\n      <td>District Council</td>\n      <td>37.655509</td>\n      <td>-3.669777</td>\n      <td>Kwa Kidaya</td>\n      <td>0</td>\n      <td>...</td>\n      <td>soft</td>\n      <td>good</td>\n      <td>insufficient</td>\n      <td>insufficient</td>\n      <td>spring</td>\n      <td>spring</td>\n      <td>groundwater</td>\n      <td>communal standpipe</td>\n      <td>communal standpipe</td>\n      <td>functional</td>\n    </tr>\n  </tbody>\n</table>\n<p>5 rows × 41 columns</p>\n</div>"
     },
     "metadata": {},
     "execution_count": 3
    }
   ],
   "source": [
    "df.head()"
   ]
  },
  {
   "cell_type": "code",
   "execution_count": null,
   "metadata": {},
   "outputs": [],
   "source": []
  }
 ]
}